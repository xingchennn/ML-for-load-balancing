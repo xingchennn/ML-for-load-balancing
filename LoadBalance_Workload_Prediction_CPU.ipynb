{
 "cells": [
  {
   "cell_type": "code",
   "execution_count": 28,
   "metadata": {},
   "outputs": [],
   "source": [
    "import numpy as np \n",
    "import new_model\n",
    "import pandas as pd \n",
    "import timeit\n",
    "import statsmodels.api as sm\n",
    "import os\n",
    "from collections import defaultdict\n",
    "from sklearn.externals import joblib\n",
    "from keras.models import Sequential, load_model\n",
    "from keras.layers import LSTM, Dense, Activation\n",
    "from scipy.fftpack import fft,ifft\n",
    "from statsmodels.tsa.ar_model import AR\n",
    "import result\n",
    "from process_data import generate_train_test_data,save_into_csv,get_files_list\n",
    "from new_model import get_bayes_model,get_svr_model,get_arima_forecast,get_lstm_model,train_lstm,lstm_predict\n",
    "from tensorflow.python.util import deprecation\n",
    "deprecation._PRINT_DEPRECATION_WARNINGS = False"
   ]
  },
  {
   "cell_type": "markdown",
   "metadata": {},
   "source": [
    "# 0. Load Data"
   ]
  },
  {
   "cell_type": "code",
   "execution_count": 3,
   "metadata": {},
   "outputs": [
    {
     "name": "stdout",
     "output_type": "stream",
     "text": [
      "<class 'pandas.core.frame.DataFrame'>\n",
      "RangeIndex: 2914 entries, 0 to 2913\n",
      "Columns: 838 entries, 6295210032-905845 to 6336594489-1331701\n",
      "dtypes: float64(838)\n",
      "memory usage: 18.6 MB\n"
     ]
    }
   ],
   "source": [
    "df = pd.read_csv(\"long_term_maximum_CPU_usage.csv\")\n",
    "df.info()"
   ]
  },
  {
   "cell_type": "code",
   "execution_count": 4,
   "metadata": {},
   "outputs": [
    {
     "name": "stdout",
     "output_type": "stream",
     "text": [
      "<<<<<<<<<<<<<<<get the data from the file: long_term_maximum_CPU_usage.csv\n"
     ]
    }
   ],
   "source": [
    "path = \"long_term_maximum_CPU_usage\"\n",
    "path1= path + '.csv'\n",
    "lag = 8\n",
    "data = generate_train_test_data(0.8, path1, lag)"
   ]
  },
  {
   "cell_type": "code",
   "execution_count": 23,
   "metadata": {},
   "outputs": [
    {
     "name": "stdout",
     "output_type": "stream",
     "text": [
      "Number of training samples: 752822\n",
      "Number of testing samples: 188842\n"
     ]
    }
   ],
   "source": [
    "([x_train, y_train], [x_test, y_test], id_name) = data['long_term_maximum_CPU_usage.csv']\n",
    "x_train = x_train.values\n",
    "x_test = x_test.values\n",
    "y_train = y_train.values.ravel()\n",
    "y_test = y_test.values.ravel()\n",
    "print('Number of training samples:', len(x_train))\n",
    "print('Number of testing samples:', len(x_test))"
   ]
  },
  {
   "cell_type": "markdown",
   "metadata": {},
   "source": [
    "# 1. LSTM Prediction Model"
   ]
  },
  {
   "cell_type": "code",
   "execution_count": 16,
   "metadata": {},
   "outputs": [
    {
     "name": "stdout",
     "output_type": "stream",
     "text": [
      "_________________________________________________________________\n",
      "Layer (type)                 Output Shape              Param #   \n",
      "=================================================================\n",
      "lstm_4 (LSTM)                (None, 100)               40800     \n",
      "_________________________________________________________________\n",
      "dense_4 (Dense)              (None, 1)                 101       \n",
      "_________________________________________________________________\n",
      "activation_4 (Activation)    (None, 1)                 0         \n",
      "=================================================================\n",
      "Total params: 40,901\n",
      "Trainable params: 40,901\n",
      "Non-trainable params: 0\n",
      "_________________________________________________________________\n"
     ]
    }
   ],
   "source": [
    "# Model construct\n",
    "model = Sequential()\n",
    "model.add(LSTM(input_shape=(None,1), units=100, return_sequences=False))\n",
    "model.add(Dense(units=1))\n",
    "model.add(Activation('linear'))\n",
    "model.compile(loss='mse', optimizer='rmsprop')\n",
    "model.summary()"
   ]
  },
  {
   "cell_type": "code",
   "execution_count": null,
   "metadata": {},
   "outputs": [],
   "source": [
    "# Model training\n",
    "model = train_lstm(model, x_train, y_train, path, lag, 32, 0.1)"
   ]
  },
  {
   "cell_type": "code",
   "execution_count": 24,
   "metadata": {},
   "outputs": [],
   "source": [
    "# Model prediction\n",
    "key = \"long_term_maximum_CPU_usage\"\n",
    "model = load_model('lstm_model1.h5', compile=False)\n",
    "if not os.path.exists('new_result1'):\n",
    "    os.makedirs('new_result1')\n",
    "for x, y_t, id_name_str in zip(x_test, y_test, id_name):\n",
    "    start = timeit.default_timer()\n",
    "    x = x.reshape(1,lag,1)\n",
    "    y = lstm_predict(x,model)\n",
    "    spend = timeit.default_timer() - start\n",
    "    acc = 1- abs((y[0] - y_t)/(y_t + 0.5))\n",
    "    if acc>0:\n",
    "        acc = 1- abs((y[0] - y_t)/1)\n",
    "    with open('new_result1/'+id_name_str+'_acc.txt', 'a+') as f1:\n",
    "        f1.write(str(acc[0])+'\\n')\n",
    "    with open('new_result1/'+id_name_str+'_time.txt', 'a+') as f2:\n",
    "        f2.write(str(spend)+'\\n')\n",
    "    with open('new_result1/'+id_name_str+'_pred.txt', 'a+') as f2:\n",
    "        f2.write(str(y[0][0])+'\\n')"
   ]
  },
  {
   "cell_type": "code",
   "execution_count": 25,
   "metadata": {},
   "outputs": [
    {
     "name": "stdout",
     "output_type": "stream",
     "text": [
      "<<<<<<<<<<<<<<< Save predictions !!!\n"
     ]
    }
   ],
   "source": [
    "# combine files\n",
    "acc = pd.DataFrame()\n",
    "time = pd.DataFrame()\n",
    "pred = pd.DataFrame()\n",
    "\n",
    "files = os.listdir('new_result1')\n",
    "for file in files:\n",
    "    if '_' in file:\n",
    "        id_name_str = file.split('_')[0]\n",
    "        file_type = file.split('_')[1]\n",
    "        cur_df = pd.read_csv('new_result1/'+file, header=None, index_col=False)\n",
    "        cur_df.columns = [id_name_str]\n",
    "        if file_type[:3] == 'acc':\n",
    "            acc = pd.concat([acc, cur_df], axis=1)\n",
    "        elif file_type[:4] == 'time':\n",
    "            time = pd.concat([time, cur_df], axis=1)\n",
    "        elif file_type[:4] == 'pred':\n",
    "            pred = pd.concat([pred, cur_df], axis=1)\n",
    "\n",
    "acc.to_csv('new_result/long_term_maximum_CPU_usage_lstm_acc.csv', index=False)\n",
    "time.to_csv('new_result/long_term_maximum_CPU_usage_lstm_time.csv', index=False)\n",
    "pred.to_csv('new_result/long_term_maximum_CPU_usage_lstm_pred.csv', index=False)\n",
    "print('<<<<<<<<<<<<<<< Save predictions !!!')"
   ]
  },
  {
   "cell_type": "markdown",
   "metadata": {},
   "source": [
    "# 2. FFT Prediction Model"
   ]
  },
  {
   "cell_type": "code",
   "execution_count": 26,
   "metadata": {},
   "outputs": [],
   "source": [
    "def FFT(data, lag):\n",
    "    for i in range(lag):\n",
    "        fk_list = []\n",
    "        for k in range(lag):\n",
    "            fk_list.append(fft(data[k]))\n",
    "        pn = 0.\n",
    "        for k in range(lag//2):\n",
    "            xx = ifft(fk_list[k]).real\n",
    "            first_half = xx[:lag//2].sum()\n",
    "            pn += first_half/lag\n",
    "        pred = pn \n",
    "    return pred"
   ]
  },
  {
   "cell_type": "code",
   "execution_count": 45,
   "metadata": {},
   "outputs": [],
   "source": [
    "key = \"long_term_maximum_CPU_usage\"\n",
    "N = x_test.shape[0]\n",
    "if not os.path.exists('new_result2'):\n",
    "    os.makedirs('new_result2')\n",
    "for i in range(lag, N-lag-1):\n",
    "    start = timeit.default_timer()\n",
    "    x = x_test[i-lag:i] # 8 x 8\n",
    "    y = FFT(x, lag) # 1\n",
    "    spend = timeit.default_timer() - start\n",
    "    acc = 1- abs((y - y_test[i])/(y_test[i] + 0.5))\n",
    "    with open('new_result2/'+id_name[i]+'_acc.txt', 'a+') as f1:\n",
    "        f1.write(str(acc)+'\\n')\n",
    "    with open('new_result2/'+id_name[i]+'_time.txt', 'a+') as f2:\n",
    "        f2.write(str(spend)+'\\n')\n",
    "    with open('new_result2/'+id_name[i]+'_pred.txt', 'a+') as f2:\n",
    "        f2.write(str(y)+'\\n')"
   ]
  },
  {
   "cell_type": "code",
   "execution_count": 46,
   "metadata": {},
   "outputs": [
    {
     "name": "stdout",
     "output_type": "stream",
     "text": [
      "<<<<<<<<<<<<<<< Save predictions !!!\n"
     ]
    }
   ],
   "source": [
    "# combine files\n",
    "acc = pd.DataFrame()\n",
    "time = pd.DataFrame()\n",
    "pred = pd.DataFrame()\n",
    "\n",
    "files = os.listdir('new_result2')\n",
    "for file in files:\n",
    "    if '_' in file:\n",
    "        id_name_str = file.split('_')[0]\n",
    "        file_type = file.split('_')[1]\n",
    "        cur_df = pd.read_csv('new_result2/'+file, header=None, index_col=False)\n",
    "        cur_df.columns = [id_name_str]\n",
    "        if file_type[:3] == 'acc':\n",
    "            acc = pd.concat([acc, cur_df], axis=1)\n",
    "        elif file_type[:4] == 'time':\n",
    "            time = pd.concat([time, cur_df], axis=1)\n",
    "        elif file_type[:4] == 'pred':\n",
    "            pred = pd.concat([pred, cur_df], axis=1)\n",
    "\n",
    "acc.to_csv('new_result/long_term_maximum_CPU_usage_fft_acc.csv', index=False)\n",
    "time.to_csv('new_result/long_term_maximum_CPU_usage_fft_time.csv', index=False)\n",
    "pred.to_csv('new_result/long_term_maximum_CPU_usage_fft_pred.csv', index=False)\n",
    "print('<<<<<<<<<<<<<<< Save predictions !!!')"
   ]
  },
  {
   "cell_type": "markdown",
   "metadata": {},
   "source": [
    "# 3. Improved FFT Prediction Model"
   ]
  },
  {
   "cell_type": "code",
   "execution_count": 31,
   "metadata": {},
   "outputs": [],
   "source": [
    "def Improved_FFT(data, rn_train, lag):\n",
    "    for i in range(lag):\n",
    "        fk_list = []\n",
    "        for k in range(lag):\n",
    "            fk_list.append(fft(data[k]))\n",
    "        pn, rn = 0., 0.\n",
    "        for k in range(lag//2):\n",
    "            xx = ifft(fk_list[k]).real\n",
    "            first_half = xx[:lag//2].sum()\n",
    "            pn += first_half/lag\n",
    "            second_half = xx[lag//2:].sum()\n",
    "            rn += second_half/lag\n",
    "        rn_train.append(rn)\n",
    "        if len(rn_train) == lag:\n",
    "            model_ar2 = AR(np.array(rn_train))\n",
    "            res_ar2 = model_ar2.fit(trend='nc')\n",
    "            pred_rn = res_ar2.predict(start=lag, end=lag+1, dynamic=True)[-1]\n",
    "            rn_train.pop(0)\n",
    "        else:\n",
    "            pred_rn = 0.\n",
    "        pred = pn + pred_rn\n",
    "    return pred, rn_train"
   ]
  },
  {
   "cell_type": "code",
   "execution_count": 32,
   "metadata": {},
   "outputs": [],
   "source": [
    "key = \"long_term_maximum_CPU_usage\"\n",
    "rn_train = []\n",
    "N = x_test.shape[0]\n",
    "if not os.path.exists('new_result3'):\n",
    "    os.makedirs('new_result3')\n",
    "for i in range(lag, N-lag-1):\n",
    "    start = timeit.default_timer()\n",
    "    x = x_test[i-lag:i] # 8 x 8\n",
    "    y, rn_train = Improved_FFT(x, rn_train, lag) # 1\n",
    "    spend = timeit.default_timer() - start\n",
    "    acc = 1- abs((y - y_test[i])/(y_test[i] + 0.5))\n",
    "    with open('new_result3/'+id_name[i]+'_acc.txt', 'a+') as f1:\n",
    "        f1.write(str(acc)+'\\n')\n",
    "    with open('new_result3/'+id_name[i]+'_time.txt', 'a+') as f2:\n",
    "        f2.write(str(spend)+'\\n')\n",
    "    with open('new_result3/'+id_name[i]+'_pred.txt', 'a+') as f2:\n",
    "        f2.write(str(y)+'\\n')"
   ]
  },
  {
   "cell_type": "code",
   "execution_count": 33,
   "metadata": {},
   "outputs": [],
   "source": [
    "# combine files\n",
    "acc = pd.DataFrame()\n",
    "time = pd.DataFrame()\n",
    "pred = pd.DataFrame()\n",
    "\n",
    "files = os.listdir('new_result3')\n",
    "for file in files:\n",
    "    if '_' in file:\n",
    "        id_name_str = file.split('_')[0]\n",
    "        file_type = file.split('_')[1]\n",
    "        cur_df = pd.read_csv('new_result3/'+file, header=None, index_col=False)\n",
    "        cur_df.columns = [id_name_str]\n",
    "        if file_type[:3] == 'acc':\n",
    "            acc = pd.concat([acc, cur_df], axis=1)\n",
    "        elif file_type[:4] == 'time':\n",
    "            time = pd.concat([time, cur_df], axis=1)\n",
    "        elif file_type[:4] == 'pred':\n",
    "            pred = pd.concat([pred, cur_df], axis=1)\n",
    "\n",
    "acc.to_csv('new_result/long_term_maximum_CPU_usage_improved_fft_acc.csv', index=False)\n",
    "time.to_csv('new_result/long_term_maximum_CPU_usage_improved_fft_time.csv', index=False)\n",
    "pred.to_csv('new_result/long_term_maximum_CPU_usage_improved_fft_pred.csv', index=False)"
   ]
  },
  {
   "cell_type": "markdown",
   "metadata": {},
   "source": [
    "# 4. Prediction Accuracy Comparision"
   ]
  },
  {
   "cell_type": "code",
   "execution_count": 47,
   "metadata": {},
   "outputs": [],
   "source": [
    "df_lstm = pd.read_csv('new_result/long_term_maximum_CPU_usage_lstm_acc.csv')\n",
    "df_fft = pd.read_csv('new_result/long_term_maximum_CPU_usage_fft_acc.csv')\n",
    "df_ifft = pd.read_csv('new_result/long_term_maximum_CPU_usage_improved_fft_acc.csv')"
   ]
  },
  {
   "cell_type": "code",
   "execution_count": 48,
   "metadata": {},
   "outputs": [],
   "source": [
    "data_value=[]\n",
    "for data_column in df_lstm.columns:\n",
    "    temp = df_lstm[data_column].dropna() \n",
    "    for i in range(temp.shape[0]):\n",
    "        if temp[i]>0:\n",
    "            data_value.append(temp[i])\n",
    "data_value2=[]\n",
    "for data_column in df_fft.columns:\n",
    "    temp = df_fft[data_column].dropna() \n",
    "    for i in range(temp.shape[0]):\n",
    "        if temp[i]>0:\n",
    "            data_value2.append(temp[i])\n",
    "data_value3=[]\n",
    "for data_column in df_ifft.columns:\n",
    "    temp = df_ifft[data_column].dropna() \n",
    "    for i in range(temp.shape[0]):\n",
    "        if temp[i]>0:\n",
    "            data_value3.append(temp[i])"
   ]
  },
  {
   "cell_type": "code",
   "execution_count": 49,
   "metadata": {},
   "outputs": [],
   "source": [
    "from scipy import stats\n",
    "res1 = stats.relfreq(data_value, numbins=25)\n",
    "y1 = np.cumsum(res1.frequency)\n",
    "x1 = res1.lowerlimit + np.linspace(0, res1.binsize*res1.frequency.size,res1.frequency.size)\n",
    "\n",
    "res2 = stats.relfreq(data_value2, numbins=25)\n",
    "y2 = np.cumsum(res2.frequency)\n",
    "x2 = res2.lowerlimit + np.linspace(0, res2.binsize*res1.frequency.size,res2.frequency.size)\n",
    "\n",
    "res3 = stats.relfreq(data_value3, numbins=25)\n",
    "y3 = np.cumsum(res3.frequency)\n",
    "x3 = res3.lowerlimit + np.linspace(0, res3.binsize*res1.frequency.size,res3.frequency.size)"
   ]
  },
  {
   "cell_type": "code",
   "execution_count": 50,
   "metadata": {},
   "outputs": [
    {
     "data": {
      "text/plain": [
       "Text(0, 0.5, 'cdf')"
      ]
     },
     "execution_count": 50,
     "metadata": {},
     "output_type": "execute_result"
    },
    {
     "data": {
      "image/png": "[encoded data removed]",
      "text/plain": [
       "<Figure size 432x288 with 1 Axes>"
      ]
     },
     "metadata": {
      "needs_background": "light"
     },
     "output_type": "display_data"
    }
   ],
   "source": [
    "%matplotlib inline\n",
    "import matplotlib.pyplot as plt\n",
    "plt.plot(x1,y1,label='LSTM')\n",
    "plt.plot(x2,y2,label='FFT')\n",
    "plt.plot(x3,y3,label='Improved FFT')\n",
    "plt.legend()\n",
    "plt.xlabel('accuracy')\n",
    "plt.ylabel('cdf')"
   ]
  },
  {
   "cell_type": "markdown",
   "metadata": {},
   "source": [
    "# 5. Time overhead Comparision"
   ]
  },
  {
   "cell_type": "code",
   "execution_count": 40,
   "metadata": {},
   "outputs": [],
   "source": [
    "tm = pd.read_csv('new_result/long_term_maximum_CPU_usage_lstm_time.csv')\n",
    "time_fft = pd.read_csv('new_result/long_term_maximum_CPU_usage_fft_time.csv')\n",
    "time_ifft = pd.read_csv('new_result/long_term_maximum_CPU_usage_improved_fft_time.csv')"
   ]
  },
  {
   "cell_type": "code",
   "execution_count": 41,
   "metadata": {},
   "outputs": [],
   "source": [
    "time_value=[]\n",
    "for time_column in tm.columns:\n",
    "    temp = tm[time_column].dropna() \n",
    "    for i in range(temp.shape[0]):\n",
    "        if temp[i]>0:\n",
    "            time_value.append(temp[i])\n",
    "time_value2=[]\n",
    "for data_column in time_fft.columns:\n",
    "    temp = time_fft[data_column].dropna() \n",
    "    for i in range(temp.shape[0]):\n",
    "        if temp[i]>0:\n",
    "            time_value2.append(temp[i])\n",
    "time_value3=[]\n",
    "for data_column in time_ifft.columns:\n",
    "    temp = time_ifft[data_column].dropna() \n",
    "    for i in range(temp.shape[0]):\n",
    "        if temp[i]>0:\n",
    "            time_value3.append(temp[i])"
   ]
  },
  {
   "cell_type": "code",
   "execution_count": 42,
   "metadata": {},
   "outputs": [],
   "source": [
    "time_average_lstm= sum(time_value)/len(time_value)\n",
    "time_average_fft= sum(time_value2)/len(time_value2)\n",
    "time_average_ifft= sum(time_value3)/len(time_value3)\n",
    "time_overhead=[time_average_fft, time_average_ifft, time_average_lstm]"
   ]
  },
  {
   "cell_type": "code",
   "execution_count": 43,
   "metadata": {},
   "outputs": [
    {
     "data": {
      "image/png": "[encoded data removed]",
      "text/plain": [
       "<Figure size 432x288 with 1 Axes>"
      ]
     },
     "metadata": {
      "needs_background": "light"
     },
     "output_type": "display_data"
    }
   ],
   "source": [
    "def draw_bar(labels,quants,name):\n",
    "    width = 0.4\n",
    "    ind = np.linspace(0,3,3)\n",
    "    # make a square figure\n",
    "    fig = plt.figure(1)\n",
    "    ax  = fig.add_subplot(111)\n",
    "    # Bar Plot\n",
    "    ax.bar(ind-width/4,quants,width,color='green')\n",
    "    # Set the ticks on x-axis\n",
    "    ax.set_xticks(ind)\n",
    "    ax.set_xticklabels(labels)\n",
    "    # labels\n",
    "    #ax.set_xlabel()\n",
    "    ax.set_ylabel(name)\n",
    "    # title\n",
    "    #ax.set_title('Top 10 GDP Countries', bbox={'facecolor':'0.8', 'pad':5})\n",
    "    plt.grid(True)\n",
    "    plt.show()\n",
    "    plt.savefig(\"Predict_Method.jpg\")\n",
    "    plt.close()\n",
    " \n",
    "labels = ['Predict-fft', 'Predict-ifft','Predict-LSTM']\n",
    " \n",
    "quants = time_overhead\n",
    " \n",
    "draw_bar(labels,quants,\"Time overhead\")"
   ]
  },
  {
   "cell_type": "code",
   "execution_count": null,
   "metadata": {},
   "outputs": [],
   "source": []
  }
 ],
 "metadata": {
  "kernelspec": {
   "display_name": "Python 3",
   "language": "python",
   "name": "python3"
  },
  "language_info": {
   "codemirror_mode": {
    "name": "ipython",
    "version": 3
   },
   "file_extension": ".py",
   "mimetype": "text/x-python",
   "name": "python",
   "nbconvert_exporter": "python",
   "pygments_lexer": "ipython3",
   "version": "3.7.3"
  }
 },
 "nbformat": 4,
 "nbformat_minor": 2
}
